{
  "nbformat": 4,
  "nbformat_minor": 0,
  "metadata": {
    "colab": {
      "provenance": []
    },
    "kernelspec": {
      "name": "python3",
      "display_name": "Python 3"
    },
    "language_info": {
      "name": "python"
    }
  },
  "cells": [
    {
      "cell_type": "code",
      "source": [
        "!pip install datasets"
      ],
      "metadata": {
        "colab": {
          "base_uri": "https://localhost:8080/"
        },
        "id": "5Nz5FpcE6K66",
        "outputId": "ca8a9f8e-1246-4e54-bf3f-d83d31495cd8"
      },
      "execution_count": 1,
      "outputs": [
        {
          "output_type": "stream",
          "name": "stdout",
          "text": [
            "Requirement already satisfied: datasets in /usr/local/lib/python3.10/dist-packages (2.18.0)\n",
            "Requirement already satisfied: filelock in /usr/local/lib/python3.10/dist-packages (from datasets) (3.13.3)\n",
            "Requirement already satisfied: numpy>=1.17 in /usr/local/lib/python3.10/dist-packages (from datasets) (1.25.2)\n",
            "Requirement already satisfied: pyarrow>=12.0.0 in /usr/local/lib/python3.10/dist-packages (from datasets) (14.0.2)\n",
            "Requirement already satisfied: pyarrow-hotfix in /usr/local/lib/python3.10/dist-packages (from datasets) (0.6)\n",
            "Requirement already satisfied: dill<0.3.9,>=0.3.0 in /usr/local/lib/python3.10/dist-packages (from datasets) (0.3.8)\n",
            "Requirement already satisfied: pandas in /usr/local/lib/python3.10/dist-packages (from datasets) (1.5.3)\n",
            "Requirement already satisfied: requests>=2.19.0 in /usr/local/lib/python3.10/dist-packages (from datasets) (2.31.0)\n",
            "Requirement already satisfied: tqdm>=4.62.1 in /usr/local/lib/python3.10/dist-packages (from datasets) (4.66.2)\n",
            "Requirement already satisfied: xxhash in /usr/local/lib/python3.10/dist-packages (from datasets) (3.4.1)\n",
            "Requirement already satisfied: multiprocess in /usr/local/lib/python3.10/dist-packages (from datasets) (0.70.16)\n",
            "Requirement already satisfied: fsspec[http]<=2024.2.0,>=2023.1.0 in /usr/local/lib/python3.10/dist-packages (from datasets) (2023.6.0)\n",
            "Requirement already satisfied: aiohttp in /usr/local/lib/python3.10/dist-packages (from datasets) (3.9.3)\n",
            "Requirement already satisfied: huggingface-hub>=0.19.4 in /usr/local/lib/python3.10/dist-packages (from datasets) (0.20.3)\n",
            "Requirement already satisfied: packaging in /usr/local/lib/python3.10/dist-packages (from datasets) (24.0)\n",
            "Requirement already satisfied: pyyaml>=5.1 in /usr/local/lib/python3.10/dist-packages (from datasets) (6.0.1)\n",
            "Requirement already satisfied: aiosignal>=1.1.2 in /usr/local/lib/python3.10/dist-packages (from aiohttp->datasets) (1.3.1)\n",
            "Requirement already satisfied: attrs>=17.3.0 in /usr/local/lib/python3.10/dist-packages (from aiohttp->datasets) (23.2.0)\n",
            "Requirement already satisfied: frozenlist>=1.1.1 in /usr/local/lib/python3.10/dist-packages (from aiohttp->datasets) (1.4.1)\n",
            "Requirement already satisfied: multidict<7.0,>=4.5 in /usr/local/lib/python3.10/dist-packages (from aiohttp->datasets) (6.0.5)\n",
            "Requirement already satisfied: yarl<2.0,>=1.0 in /usr/local/lib/python3.10/dist-packages (from aiohttp->datasets) (1.9.4)\n",
            "Requirement already satisfied: async-timeout<5.0,>=4.0 in /usr/local/lib/python3.10/dist-packages (from aiohttp->datasets) (4.0.3)\n",
            "Requirement already satisfied: typing-extensions>=3.7.4.3 in /usr/local/lib/python3.10/dist-packages (from huggingface-hub>=0.19.4->datasets) (4.10.0)\n",
            "Requirement already satisfied: charset-normalizer<4,>=2 in /usr/local/lib/python3.10/dist-packages (from requests>=2.19.0->datasets) (3.3.2)\n",
            "Requirement already satisfied: idna<4,>=2.5 in /usr/local/lib/python3.10/dist-packages (from requests>=2.19.0->datasets) (3.6)\n",
            "Requirement already satisfied: urllib3<3,>=1.21.1 in /usr/local/lib/python3.10/dist-packages (from requests>=2.19.0->datasets) (2.0.7)\n",
            "Requirement already satisfied: certifi>=2017.4.17 in /usr/local/lib/python3.10/dist-packages (from requests>=2.19.0->datasets) (2024.2.2)\n",
            "Requirement already satisfied: python-dateutil>=2.8.1 in /usr/local/lib/python3.10/dist-packages (from pandas->datasets) (2.8.2)\n",
            "Requirement already satisfied: pytz>=2020.1 in /usr/local/lib/python3.10/dist-packages (from pandas->datasets) (2023.4)\n",
            "Requirement already satisfied: six>=1.5 in /usr/local/lib/python3.10/dist-packages (from python-dateutil>=2.8.1->pandas->datasets) (1.16.0)\n"
          ]
        }
      ]
    },
    {
      "cell_type": "code",
      "execution_count": 2,
      "metadata": {
        "id": "OBwq4WcT3yJb"
      },
      "outputs": [],
      "source": [
        "import collections\n",
        "\n",
        "import datasets\n",
        "import matplotlib.pyplot as plt\n",
        "import numpy as np\n",
        "import torch\n",
        "import torch.nn as nn\n",
        "import torch.optim as optim\n",
        "import torchtext\n",
        "import tqdm"
      ]
    },
    {
      "cell_type": "code",
      "source": [
        "seed = 1234\n",
        "\n",
        "np.random.seed(seed)\n",
        "torch.manual_seed(seed)\n",
        "torch.cuda.manual_seed(seed)\n",
        "torch.backends.cudnn.deterministic = True"
      ],
      "metadata": {
        "id": "driExK4o6Q6_"
      },
      "execution_count": 3,
      "outputs": []
    },
    {
      "cell_type": "code",
      "source": [
        "train_data, test_data = datasets.load_dataset(\"imdb\", split=[\"train\", \"test\"])"
      ],
      "metadata": {
        "colab": {
          "base_uri": "https://localhost:8080/"
        },
        "id": "Vv2a90Cd7ho1",
        "outputId": "5372c03a-4966-48b0-a680-2c474b8dabf3"
      },
      "execution_count": 4,
      "outputs": [
        {
          "output_type": "stream",
          "name": "stderr",
          "text": [
            "/usr/local/lib/python3.10/dist-packages/huggingface_hub/utils/_token.py:88: UserWarning: \n",
            "The secret `HF_TOKEN` does not exist in your Colab secrets.\n",
            "To authenticate with the Hugging Face Hub, create a token in your settings tab (https://huggingface.co/settings/tokens), set it as secret in your Google Colab and restart your session.\n",
            "You will be able to reuse this secret in all of your notebooks.\n",
            "Please note that authentication is recommended but still optional to access public models or datasets.\n",
            "  warnings.warn(\n"
          ]
        }
      ]
    },
    {
      "cell_type": "code",
      "source": [
        "train_data , test_data"
      ],
      "metadata": {
        "colab": {
          "base_uri": "https://localhost:8080/"
        },
        "id": "SmoiqGGO7rws",
        "outputId": "41160635-203d-4476-c818-79fcf28773c1"
      },
      "execution_count": 5,
      "outputs": [
        {
          "output_type": "execute_result",
          "data": {
            "text/plain": [
              "(Dataset({\n",
              "     features: ['text', 'label'],\n",
              "     num_rows: 25000\n",
              " }),\n",
              " Dataset({\n",
              "     features: ['text', 'label'],\n",
              "     num_rows: 25000\n",
              " }))"
            ]
          },
          "metadata": {},
          "execution_count": 5
        }
      ]
    },
    {
      "cell_type": "code",
      "source": [
        "train_data.features"
      ],
      "metadata": {
        "colab": {
          "base_uri": "https://localhost:8080/"
        },
        "id": "_BagHIi47rsv",
        "outputId": "8e107940-70b0-4d07-a678-a0fc80541381"
      },
      "execution_count": 6,
      "outputs": [
        {
          "output_type": "execute_result",
          "data": {
            "text/plain": [
              "{'text': Value(dtype='string', id=None),\n",
              " 'label': ClassLabel(names=['neg', 'pos'], id=None)}"
            ]
          },
          "metadata": {},
          "execution_count": 6
        }
      ]
    },
    {
      "cell_type": "markdown",
      "source": [
        "###TOKENIZATION\n"
      ],
      "metadata": {
        "id": "h4YVN6fW75jh"
      }
    },
    {
      "cell_type": "code",
      "source": [
        "tokenizer = torchtext.data.utils.get_tokenizer(\"basic_english\")"
      ],
      "metadata": {
        "id": "bIW-DtL77rqZ"
      },
      "execution_count": 7,
      "outputs": []
    },
    {
      "cell_type": "code",
      "source": [
        "def tokenize_example(example , tokenizer , max_length):\n",
        "  tokens = tokenizer(example['text'])[:max_length]\n",
        "  return {\"tokens\": tokens}"
      ],
      "metadata": {
        "id": "EJU7frrk7rnw"
      },
      "execution_count": 8,
      "outputs": []
    },
    {
      "cell_type": "code",
      "source": [
        "max_length = 256\n",
        "train_data = train_data.map(\n",
        "    tokenize_example , fn_kwargs= {\"tokenizer\" : tokenizer , \"max_length\" : max_length}\n",
        ")\n",
        "\n",
        "test_data = test_data.map(\n",
        "    tokenize_example , fn_kwargs = {\"tokenizer\": tokenizer ,\"max_length\": max_length}\n",
        ")"
      ],
      "metadata": {
        "id": "3CNvP5Il7rlO"
      },
      "execution_count": 9,
      "outputs": []
    },
    {
      "cell_type": "code",
      "source": [
        "train_data"
      ],
      "metadata": {
        "colab": {
          "base_uri": "https://localhost:8080/"
        },
        "id": "QBxzyABK7rii",
        "outputId": "6f5f954a-72af-40c5-e9b6-8a52bdf1a1c8"
      },
      "execution_count": 10,
      "outputs": [
        {
          "output_type": "execute_result",
          "data": {
            "text/plain": [
              "Dataset({\n",
              "    features: ['text', 'label', 'tokens'],\n",
              "    num_rows: 25000\n",
              "})"
            ]
          },
          "metadata": {},
          "execution_count": 10
        }
      ]
    },
    {
      "cell_type": "markdown",
      "source": [
        "###Creating Validation Data\n"
      ],
      "metadata": {
        "id": "jtNpD39HB319"
      }
    },
    {
      "cell_type": "code",
      "source": [
        "test_size = 0.20\n",
        "train_valid_data = train_data.train_test_split(test_size  = test_size)\n",
        "train_data = train_valid_data[\"train\"]\n",
        "valid_data = train_valid_data[\"test\"]\n"
      ],
      "metadata": {
        "id": "3PqAKyNZ7rgZ"
      },
      "execution_count": 11,
      "outputs": []
    },
    {
      "cell_type": "markdown",
      "source": [
        "###Creating Vocabulary\n"
      ],
      "metadata": {
        "id": "NJtDly5Xni75"
      }
    },
    {
      "cell_type": "code",
      "source": [
        "min_freq = 4\n",
        "special_tokens = [\"<unk>\" , \"<pad>\" , \"<cls>\" , \"<sep>\"]\n",
        "\n",
        "vocab = torchtext.vocab.build_vocab_from_iterator(\n",
        "    train_data[\"tokens\"],\n",
        "    min_freq = min_freq,\n",
        "    specials = special_tokens\n",
        ")"
      ],
      "metadata": {
        "id": "grugmv5ZniaA"
      },
      "execution_count": 12,
      "outputs": []
    },
    {
      "cell_type": "code",
      "source": [
        "vocab.get_itos()[:15]"
      ],
      "metadata": {
        "colab": {
          "base_uri": "https://localhost:8080/"
        },
        "id": "R4krzCwk7reY",
        "outputId": "650b281e-57d5-49b8-cec6-fa0819d59629"
      },
      "execution_count": 13,
      "outputs": [
        {
          "output_type": "execute_result",
          "data": {
            "text/plain": [
              "['<unk>',\n",
              " '<pad>',\n",
              " '<cls>',\n",
              " '<sep>',\n",
              " 'the',\n",
              " '.',\n",
              " ',',\n",
              " 'a',\n",
              " 'and',\n",
              " 'of',\n",
              " 'to',\n",
              " \"'\",\n",
              " 'is',\n",
              " 'it',\n",
              " 'i']"
            ]
          },
          "metadata": {},
          "execution_count": 13
        }
      ]
    },
    {
      "cell_type": "code",
      "source": [
        "unk_index = vocab[\"<unk>\"]\n",
        "pad_index = vocab[\"<pad>\"]\n",
        "cls_index = vocab[\"<cls>\"]\n",
        "sep_index = vocab[\"<sep>\"]\n"
      ],
      "metadata": {
        "id": "x_LhxkdPo3MC"
      },
      "execution_count": 14,
      "outputs": []
    },
    {
      "cell_type": "code",
      "source": [
        "#if some tokens are not present in vocab it will give index\n",
        "\n",
        "vocab.set_default_index(cls_index)\n"
      ],
      "metadata": {
        "id": "nsmopQw3qLPe"
      },
      "execution_count": 15,
      "outputs": []
    },
    {
      "cell_type": "code",
      "source": [
        "vocab[\"somw\"]"
      ],
      "metadata": {
        "colab": {
          "base_uri": "https://localhost:8080/"
        },
        "id": "OWmTBdDuqdX5",
        "outputId": "67186e34-c4df-4318-d51a-5ecf583a93fb"
      },
      "execution_count": 16,
      "outputs": [
        {
          "output_type": "execute_result",
          "data": {
            "text/plain": [
              "2"
            ]
          },
          "metadata": {},
          "execution_count": 16
        }
      ]
    },
    {
      "cell_type": "code",
      "source": [
        "vocab.lookup_indices([\"hello\", \"world\", \"some_token\", \"<pad>\"])"
      ],
      "metadata": {
        "colab": {
          "base_uri": "https://localhost:8080/"
        },
        "id": "8cwXbRcvqtzs",
        "outputId": "748c2846-7ee7-4c28-a19c-a4b5035d13a4"
      },
      "execution_count": 17,
      "outputs": [
        {
          "output_type": "execute_result",
          "data": {
            "text/plain": [
              "[5459, 187, 2, 1]"
            ]
          },
          "metadata": {},
          "execution_count": 17
        }
      ]
    },
    {
      "cell_type": "markdown",
      "source": [
        "###Numericalizing Data"
      ],
      "metadata": {
        "id": "Ae_Y2jVWswIb"
      }
    },
    {
      "cell_type": "code",
      "source": [
        "def numericalize_data(example , vocab):\n",
        "  ids = vocab.lookup_indices(example[\"tokens\"])\n",
        "  return {\"ids\" : ids}"
      ],
      "metadata": {
        "id": "Y6DenCe2suwd"
      },
      "execution_count": 18,
      "outputs": []
    },
    {
      "cell_type": "code",
      "source": [
        "train_data = train_data.map(numericalize_data , fn_kwargs= {\"vocab\" : vocab})\n",
        "valid_data = valid_data.map(numericalize_data , fn_kwargs = {\"vocab\" : vocab})\n",
        "test_data = test_data.map(numericalize_data , fn_kwargs = {\"vocab\" : vocab})"
      ],
      "metadata": {
        "id": "sR4UTx_UtV9F"
      },
      "execution_count": 19,
      "outputs": []
    },
    {
      "cell_type": "code",
      "source": [
        "# transforming the ids and label from integers into PyTorch tensors, which we do using the with_format method\n",
        "\n",
        "train_data = train_data.with_format(type = \"torch\" , columns= [\"ids\" , \"label\"])\n",
        "valid_data = valid_data.with_format(type=\"torch\", columns=[\"ids\", \"label\"])\n",
        "test_data = test_data.with_format(type=\"torch\", columns=[\"ids\", \"label\"])"
      ],
      "metadata": {
        "id": "9Q3TdyNouKHi"
      },
      "execution_count": 20,
      "outputs": []
    },
    {
      "cell_type": "code",
      "source": [
        "train_data[0][\"ids\"][:10]"
      ],
      "metadata": {
        "colab": {
          "base_uri": "https://localhost:8080/"
        },
        "id": "_0jXsV7HurZd",
        "outputId": "fee116f5-9246-4152-f8ba-a90384e3e540"
      },
      "execution_count": 21,
      "outputs": [
        {
          "output_type": "execute_result",
          "data": {
            "text/plain": [
              "tensor([ 118,  718,   14,   11,  141,  302, 2863,   17,   96,   84])"
            ]
          },
          "metadata": {},
          "execution_count": 21
        }
      ]
    },
    {
      "cell_type": "code",
      "source": [
        "train_data[0].keys()"
      ],
      "metadata": {
        "colab": {
          "base_uri": "https://localhost:8080/"
        },
        "id": "tkdoO19mu10H",
        "outputId": "158e83b1-f4d5-4b97-a5ae-cac24bfb25a4"
      },
      "execution_count": 22,
      "outputs": [
        {
          "output_type": "execute_result",
          "data": {
            "text/plain": [
              "dict_keys(['label', 'ids'])"
            ]
          },
          "metadata": {},
          "execution_count": 22
        }
      ]
    },
    {
      "cell_type": "code",
      "source": [
        "def get_Collate_fn(pad_index):\n",
        "  def collate_fn(batch):\n",
        "    batch_ids = [i[\"ids\"] for i in batch]\n",
        "    batch_ids = nn.utils.rnn.pad_sequence(\n",
        "        batch_ids , padding_value = pad_index , batch_first= True\n",
        "    )\n",
        "\n",
        "    batch_label = [i[\"label\"] for i in batch]\n",
        "    batch_label = torch.stack(batch_label)\n",
        "    batch = {\"ids\": batch_ids , \"label\": batch_label}\n",
        "    return batch\n",
        "\n",
        "  return collate_fn"
      ],
      "metadata": {
        "id": "tcmWJzZqwPng"
      },
      "execution_count": 23,
      "outputs": []
    },
    {
      "cell_type": "code",
      "source": [
        "def get_data_loader(dataset , batch_size , pad_index , shuffle = False):\n",
        "  collate_fn = get_Collate_fn(pad_index)\n",
        "  data_loader = torch.utils.data.DataLoader(\n",
        "      dataset = dataset,\n",
        "      batch_size = batch_size ,\n",
        "      collate_fn = collate_fn,\n",
        "      shuffle = shuffle\n",
        "  )\n",
        "  return data_loader"
      ],
      "metadata": {
        "id": "gEddDimgwPj1"
      },
      "execution_count": 24,
      "outputs": []
    },
    {
      "cell_type": "code",
      "source": [
        "batch_size = 512\n",
        "\n",
        "train_data_loader = get_data_loader(train_data , batch_size , pad_index , shuffle = True)\n",
        "valid_data_loader = get_data_loader(valid_data , batch_size , pad_index)\n",
        "test_data_loader = get_data_loader(test_data, batch_size , pad_index)"
      ],
      "metadata": {
        "id": "8Xu2qv-NwPgl"
      },
      "execution_count": 25,
      "outputs": []
    },
    {
      "cell_type": "markdown",
      "source": [
        "###Building Model\n"
      ],
      "metadata": {
        "id": "tlkcBD1PzgFX"
      }
    },
    {
      "cell_type": "code",
      "source": [
        "class NBoW(nn.Module):\n",
        "  def __init__(self , vocab_size , embedding_dim , output_dim , pad_index):\n",
        "    super().__init__()\n",
        "    self.embedding = nn.Embedding(vocab_size, embedding_dim , padding_idx = pad_index)\n",
        "    self.fc = nn.Linear(embedding_dim , output_dim)\n",
        "\n",
        "  def forward(self , ids):\n",
        "    embebbed = self.embedding(ids)\n",
        "    pooled = embebbed.mean(dim = 1)\n",
        "    predicted = self.fc(pooled)\n",
        "\n",
        "    return predicted"
      ],
      "metadata": {
        "id": "yX-0YlDDzfwA"
      },
      "execution_count": 26,
      "outputs": []
    },
    {
      "cell_type": "code",
      "source": [
        "vocab_size = len(vocab)\n",
        "embedding_dim  = 300\n",
        "\n",
        "output_dim = len(train_data.unique(\"label\"))\n",
        "\n",
        "model = NBoW(vocab_size , embedding_dim , output_dim , pad_index)"
      ],
      "metadata": {
        "id": "tN1hKC9IwPd6"
      },
      "execution_count": 27,
      "outputs": []
    },
    {
      "cell_type": "code",
      "source": [
        "def count_parameters(model):\n",
        "  return sum(p.numel() for p in model.parameters() if p.requires_grad)\n",
        "\n",
        "print(f\"The model has {count_parameters(model): ,} trainable parameters\")\n"
      ],
      "metadata": {
        "colab": {
          "base_uri": "https://localhost:8080/"
        },
        "id": "xUaZuif-wPbf",
        "outputId": "65e430f9-1238-4d3b-a060-6f03981817e1"
      },
      "execution_count": 28,
      "outputs": [
        {
          "output_type": "stream",
          "name": "stdout",
          "text": [
            "The model has  7,651,202 trainable parameters\n"
          ]
        }
      ]
    },
    {
      "cell_type": "code",
      "source": [
        "vectors = torchtext.vocab.GloVe()"
      ],
      "metadata": {
        "id": "wN7NikyFwPZW"
      },
      "execution_count": 29,
      "outputs": []
    },
    {
      "cell_type": "code",
      "source": [
        "pretrained_embedding = vectors.get_vecs_by_tokens(vocab.get_itos())"
      ],
      "metadata": {
        "id": "ssJBc91PwPXN"
      },
      "execution_count": 30,
      "outputs": []
    },
    {
      "cell_type": "code",
      "source": [
        "pretrained_embedding.shape"
      ],
      "metadata": {
        "colab": {
          "base_uri": "https://localhost:8080/"
        },
        "id": "1eLYFRyo_mqw",
        "outputId": "cb7baa37-07ff-4dba-c4e5-8f8078dcab8c"
      },
      "execution_count": 31,
      "outputs": [
        {
          "output_type": "execute_result",
          "data": {
            "text/plain": [
              "torch.Size([25502, 300])"
            ]
          },
          "metadata": {},
          "execution_count": 31
        }
      ]
    },
    {
      "cell_type": "code",
      "source": [
        "model.embedding.weight"
      ],
      "metadata": {
        "colab": {
          "base_uri": "https://localhost:8080/"
        },
        "id": "ages9D_rwPUx",
        "outputId": "5966daba-5385-41ce-ac80-4a72f92469f8"
      },
      "execution_count": 32,
      "outputs": [
        {
          "output_type": "execute_result",
          "data": {
            "text/plain": [
              "Parameter containing:\n",
              "tensor([[-0.1117, -0.4966,  0.1631,  ..., -0.5592, -0.4480, -0.6476],\n",
              "        [ 0.0000,  0.0000,  0.0000,  ...,  0.0000,  0.0000,  0.0000],\n",
              "        [ 0.7882, -1.6625, -0.7064,  ..., -1.5841, -0.3711, -1.2338],\n",
              "        ...,\n",
              "        [ 0.5408, -2.4592,  1.2055,  ...,  1.5511,  0.3961,  1.3328],\n",
              "        [-0.3017,  0.9250,  1.2910,  ...,  1.3969,  0.9476,  0.5435],\n",
              "        [ 0.5138, -0.4632, -0.2360,  ...,  1.1965,  0.6821, -0.1939]],\n",
              "       requires_grad=True)"
            ]
          },
          "metadata": {},
          "execution_count": 32
        }
      ]
    },
    {
      "cell_type": "code",
      "source": [
        "pretrained_embedding"
      ],
      "metadata": {
        "colab": {
          "base_uri": "https://localhost:8080/"
        },
        "id": "9iHjBVhh_111",
        "outputId": "2670ec5f-4d97-4a50-9243-c16e807f20e3"
      },
      "execution_count": 33,
      "outputs": [
        {
          "output_type": "execute_result",
          "data": {
            "text/plain": [
              "tensor([[ 0.0000,  0.0000,  0.0000,  ...,  0.0000,  0.0000,  0.0000],\n",
              "        [ 0.0000,  0.0000,  0.0000,  ...,  0.0000,  0.0000,  0.0000],\n",
              "        [ 0.0000,  0.0000,  0.0000,  ...,  0.0000,  0.0000,  0.0000],\n",
              "        ...,\n",
              "        [ 0.0000,  0.0000,  0.0000,  ...,  0.0000,  0.0000,  0.0000],\n",
              "        [-0.1018,  0.4327,  0.2571,  ...,  0.3643,  0.3099,  0.1195],\n",
              "        [ 1.1741, -0.4386,  0.3310,  ...,  0.3193, -0.2292, -0.0887]])"
            ]
          },
          "metadata": {},
          "execution_count": 33
        }
      ]
    },
    {
      "cell_type": "code",
      "source": [
        "model.embedding.weight.data = pretrained_embedding"
      ],
      "metadata": {
        "id": "cYTjfn5t_1xH"
      },
      "execution_count": 34,
      "outputs": []
    },
    {
      "cell_type": "code",
      "source": [
        "model.embedding.weight"
      ],
      "metadata": {
        "colab": {
          "base_uri": "https://localhost:8080/"
        },
        "id": "MwnzKwKt_1uk",
        "outputId": "b1f679f9-242a-4613-a5c7-b8ff409ceabf"
      },
      "execution_count": 35,
      "outputs": [
        {
          "output_type": "execute_result",
          "data": {
            "text/plain": [
              "Parameter containing:\n",
              "tensor([[ 0.0000,  0.0000,  0.0000,  ...,  0.0000,  0.0000,  0.0000],\n",
              "        [ 0.0000,  0.0000,  0.0000,  ...,  0.0000,  0.0000,  0.0000],\n",
              "        [ 0.0000,  0.0000,  0.0000,  ...,  0.0000,  0.0000,  0.0000],\n",
              "        ...,\n",
              "        [ 0.0000,  0.0000,  0.0000,  ...,  0.0000,  0.0000,  0.0000],\n",
              "        [-0.1018,  0.4327,  0.2571,  ...,  0.3643,  0.3099,  0.1195],\n",
              "        [ 1.1741, -0.4386,  0.3310,  ...,  0.3193, -0.2292, -0.0887]],\n",
              "       requires_grad=True)"
            ]
          },
          "metadata": {},
          "execution_count": 35
        }
      ]
    },
    {
      "cell_type": "code",
      "source": [
        "optimizer = optim.Adam(model.parameters())"
      ],
      "metadata": {
        "id": "3uL8OZya_1sJ"
      },
      "execution_count": 36,
      "outputs": []
    },
    {
      "cell_type": "code",
      "source": [
        "criterion = nn.CrossEntropyLoss()"
      ],
      "metadata": {
        "id": "iEsZUbEf_1pj"
      },
      "execution_count": 37,
      "outputs": []
    },
    {
      "cell_type": "code",
      "source": [
        "device = torch.device(\"cuda\" if torch.cuda.is_available() else \"cpu\")\n",
        "\n",
        "device"
      ],
      "metadata": {
        "colab": {
          "base_uri": "https://localhost:8080/"
        },
        "id": "h6_LprJ8_1nG",
        "outputId": "1ca040ce-0258-43e2-8472-8de05d4bc543"
      },
      "execution_count": 38,
      "outputs": [
        {
          "output_type": "execute_result",
          "data": {
            "text/plain": [
              "device(type='cpu')"
            ]
          },
          "metadata": {},
          "execution_count": 38
        }
      ]
    },
    {
      "cell_type": "code",
      "source": [
        "model = model.to(device)\n",
        "criterion = criterion.to(device)"
      ],
      "metadata": {
        "id": "99ZVJo7R_1kS"
      },
      "execution_count": 39,
      "outputs": []
    },
    {
      "cell_type": "code",
      "source": [
        "def get_accuracy(prediction , label):\n",
        "  batch_size , _ = prediction.shape\n",
        "  predicted_classes = prediction.argmax(dim = -1)\n",
        "  correct_predictions = predicted_classes.eq(label).sum()\n",
        "  accuracy = correct_predictions/ batch_size\n",
        "  return accuracy"
      ],
      "metadata": {
        "id": "QOLOcUHsFGdz"
      },
      "execution_count": 40,
      "outputs": []
    },
    {
      "cell_type": "code",
      "source": [
        "def train(data_loader , model , criterion , optimizer , device):\n",
        "  model.train()\n",
        "  epoch_losses = []\n",
        "  epoch_accs = []\n",
        "  for batch in tqdm.tqdm(data_loader , desc = \"trainning..\"):\n",
        "    ids = batch[\"ids\"].to(device)\n",
        "    label = batch[\"label\"].to(device)\n",
        "    prediction = model(ids)\n",
        "    loss = criterion(prediction , label)\n",
        "    accuracy = get_accuracy(prediction , label)\n",
        "    optimizer.zero_grad()\n",
        "    loss.backward()\n",
        "    optimizer.step()\n",
        "    epoch_losses.append(loss.item())\n",
        "    epoch_accs.append(accuracy.item())\n",
        "\n",
        "  return np.mean(epoch_losses) , np.mean(epoch_accs)\n"
      ],
      "metadata": {
        "id": "urat_Gki_1hh"
      },
      "execution_count": 41,
      "outputs": []
    },
    {
      "cell_type": "code",
      "source": [
        "def evaluate(data_loader, model , criterion,device):\n",
        "  model.eval()\n",
        "  epoch_losses = []\n",
        "  epoch_accs= []\n",
        "  with torch.no_grad():\n",
        "    for batch in tqdm.tqdm(data_loader , desc = \"evaluating..\"):\n",
        "      ids = batch[\"ids\"].to(device)\n",
        "      label = batch[\"label\"].to(device)\n",
        "      prediction = model(ids)\n",
        "      loss = criterion(prediction , label)\n",
        "      accuracy = get_accuracy(prediction , label)\n",
        "      epoch_losses.append(loss.item())\n",
        "      epoch_accs.append(accuracy.item())\n",
        "\n",
        "  return np.mean(epoch_losses), np.mean(epoch_accs)"
      ],
      "metadata": {
        "id": "Z577Vto6_1e9"
      },
      "execution_count": 42,
      "outputs": []
    },
    {
      "cell_type": "code",
      "source": [
        "n_epochs = 15\n",
        "best_valid_loss = float(\"inf\")\n",
        "\n",
        "metrics = collections.defaultdict(list)\n",
        "\n",
        "for epoch in range(n_epochs):\n",
        "  train_loss, train_acc = train(\n",
        "      train_data_loader , model, criterion , optimizer , device\n",
        "  )\n",
        "  valid_loss , valid_acc = evaluate(valid_data_loader , model , criterion , device)\n",
        "  metrics[\"train_losses\"].append(train_loss)\n",
        "  metrics[\"train_accuracy\"].append(train_acc)\n",
        "  metrics[\"valid_losses\"].append(valid_loss)\n",
        "  metrics[\"valid_accuracy\"].append(valid_acc)\n",
        "\n",
        "  if valid_loss < best_valid_loss:\n",
        "    best_valid_loss = valid_loss\n",
        "    torch.save(model.state_dict() , \"nbow.pt\")\n",
        "\n",
        "  print(f\"epoch: {epoch}\")\n",
        "  print(f\"train_loss: {train_loss:.3f}, train_acc: {train_acc:.3f}\")\n",
        "  print(f\"valid_loss: {valid_loss:.3f}, valid_acc: {valid_acc:.3f}\")\n"
      ],
      "metadata": {
        "colab": {
          "base_uri": "https://localhost:8080/"
        },
        "id": "0r9jPH50_1ca",
        "outputId": "0b992a2c-0b78-4250-c413-20419fb2f80f"
      },
      "execution_count": 44,
      "outputs": [
        {
          "output_type": "stream",
          "name": "stderr",
          "text": [
            "trainning..: 100%|██████████| 40/40 [00:15<00:00,  2.57it/s]\n",
            "evaluating..: 100%|██████████| 10/10 [00:02<00:00,  4.28it/s]\n"
          ]
        },
        {
          "output_type": "stream",
          "name": "stdout",
          "text": [
            "epoch: 0\n",
            "train_loss: 0.630, train_acc: 0.737\n",
            "valid_loss: 0.598, valid_acc: 0.764\n"
          ]
        },
        {
          "output_type": "stream",
          "name": "stderr",
          "text": [
            "trainning..: 100%|██████████| 40/40 [00:15<00:00,  2.53it/s]\n",
            "evaluating..: 100%|██████████| 10/10 [00:01<00:00,  6.25it/s]\n"
          ]
        },
        {
          "output_type": "stream",
          "name": "stdout",
          "text": [
            "epoch: 1\n",
            "train_loss: 0.559, train_acc: 0.792\n",
            "valid_loss: 0.527, valid_acc: 0.800\n"
          ]
        },
        {
          "output_type": "stream",
          "name": "stderr",
          "text": [
            "trainning..: 100%|██████████| 40/40 [00:15<00:00,  2.60it/s]\n",
            "evaluating..: 100%|██████████| 10/10 [00:01<00:00,  6.11it/s]\n"
          ]
        },
        {
          "output_type": "stream",
          "name": "stdout",
          "text": [
            "epoch: 2\n",
            "train_loss: 0.485, train_acc: 0.830\n",
            "valid_loss: 0.464, valid_acc: 0.827\n"
          ]
        },
        {
          "output_type": "stream",
          "name": "stderr",
          "text": [
            "trainning..: 100%|██████████| 40/40 [00:16<00:00,  2.49it/s]\n",
            "evaluating..: 100%|██████████| 10/10 [00:01<00:00,  6.14it/s]\n"
          ]
        },
        {
          "output_type": "stream",
          "name": "stdout",
          "text": [
            "epoch: 3\n",
            "train_loss: 0.417, train_acc: 0.858\n",
            "valid_loss: 0.413, valid_acc: 0.851\n"
          ]
        },
        {
          "output_type": "stream",
          "name": "stderr",
          "text": [
            "trainning..: 100%|██████████| 40/40 [00:15<00:00,  2.57it/s]\n",
            "evaluating..: 100%|██████████| 10/10 [00:01<00:00,  6.20it/s]\n"
          ]
        },
        {
          "output_type": "stream",
          "name": "stdout",
          "text": [
            "epoch: 4\n",
            "train_loss: 0.367, train_acc: 0.875\n",
            "valid_loss: 0.380, valid_acc: 0.859\n"
          ]
        },
        {
          "output_type": "stream",
          "name": "stderr",
          "text": [
            "trainning..: 100%|██████████| 40/40 [00:16<00:00,  2.40it/s]\n",
            "evaluating..: 100%|██████████| 10/10 [00:01<00:00,  6.16it/s]\n"
          ]
        },
        {
          "output_type": "stream",
          "name": "stdout",
          "text": [
            "epoch: 5\n",
            "train_loss: 0.326, train_acc: 0.890\n",
            "valid_loss: 0.353, valid_acc: 0.868\n"
          ]
        },
        {
          "output_type": "stream",
          "name": "stderr",
          "text": [
            "trainning..: 100%|██████████| 40/40 [00:15<00:00,  2.61it/s]\n",
            "evaluating..: 100%|██████████| 10/10 [00:01<00:00,  6.34it/s]\n"
          ]
        },
        {
          "output_type": "stream",
          "name": "stdout",
          "text": [
            "epoch: 6\n",
            "train_loss: 0.295, train_acc: 0.900\n",
            "valid_loss: 0.334, valid_acc: 0.875\n"
          ]
        },
        {
          "output_type": "stream",
          "name": "stderr",
          "text": [
            "trainning..: 100%|██████████| 40/40 [00:15<00:00,  2.50it/s]\n",
            "evaluating..: 100%|██████████| 10/10 [00:01<00:00,  5.63it/s]\n"
          ]
        },
        {
          "output_type": "stream",
          "name": "stdout",
          "text": [
            "epoch: 7\n",
            "train_loss: 0.270, train_acc: 0.910\n",
            "valid_loss: 0.320, valid_acc: 0.880\n"
          ]
        },
        {
          "output_type": "stream",
          "name": "stderr",
          "text": [
            "trainning..: 100%|██████████| 40/40 [00:15<00:00,  2.59it/s]\n",
            "evaluating..: 100%|██████████| 10/10 [00:01<00:00,  6.44it/s]\n"
          ]
        },
        {
          "output_type": "stream",
          "name": "stdout",
          "text": [
            "epoch: 8\n",
            "train_loss: 0.252, train_acc: 0.917\n",
            "valid_loss: 0.310, valid_acc: 0.881\n"
          ]
        },
        {
          "output_type": "stream",
          "name": "stderr",
          "text": [
            "trainning..: 100%|██████████| 40/40 [00:15<00:00,  2.58it/s]\n",
            "evaluating..: 100%|██████████| 10/10 [00:01<00:00,  6.08it/s]\n"
          ]
        },
        {
          "output_type": "stream",
          "name": "stdout",
          "text": [
            "epoch: 9\n",
            "train_loss: 0.230, train_acc: 0.925\n",
            "valid_loss: 0.302, valid_acc: 0.882\n"
          ]
        },
        {
          "output_type": "stream",
          "name": "stderr",
          "text": [
            "trainning..: 100%|██████████| 40/40 [00:16<00:00,  2.49it/s]\n",
            "evaluating..: 100%|██████████| 10/10 [00:01<00:00,  5.53it/s]\n"
          ]
        },
        {
          "output_type": "stream",
          "name": "stdout",
          "text": [
            "epoch: 10\n",
            "train_loss: 0.215, train_acc: 0.932\n",
            "valid_loss: 0.296, valid_acc: 0.885\n"
          ]
        },
        {
          "output_type": "stream",
          "name": "stderr",
          "text": [
            "trainning..: 100%|██████████| 40/40 [00:15<00:00,  2.57it/s]\n",
            "evaluating..: 100%|██████████| 10/10 [00:01<00:00,  6.10it/s]\n"
          ]
        },
        {
          "output_type": "stream",
          "name": "stdout",
          "text": [
            "epoch: 11\n",
            "train_loss: 0.200, train_acc: 0.937\n",
            "valid_loss: 0.293, valid_acc: 0.884\n"
          ]
        },
        {
          "output_type": "stream",
          "name": "stderr",
          "text": [
            "trainning..: 100%|██████████| 40/40 [00:15<00:00,  2.55it/s]\n",
            "evaluating..: 100%|██████████| 10/10 [00:02<00:00,  4.58it/s]\n"
          ]
        },
        {
          "output_type": "stream",
          "name": "stdout",
          "text": [
            "epoch: 12\n",
            "train_loss: 0.185, train_acc: 0.944\n",
            "valid_loss: 0.286, valid_acc: 0.888\n"
          ]
        },
        {
          "output_type": "stream",
          "name": "stderr",
          "text": [
            "trainning..: 100%|██████████| 40/40 [00:15<00:00,  2.57it/s]\n",
            "evaluating..: 100%|██████████| 10/10 [00:01<00:00,  6.17it/s]\n"
          ]
        },
        {
          "output_type": "stream",
          "name": "stdout",
          "text": [
            "epoch: 13\n",
            "train_loss: 0.172, train_acc: 0.949\n",
            "valid_loss: 0.286, valid_acc: 0.888\n"
          ]
        },
        {
          "output_type": "stream",
          "name": "stderr",
          "text": [
            "trainning..: 100%|██████████| 40/40 [00:15<00:00,  2.59it/s]\n",
            "evaluating..: 100%|██████████| 10/10 [00:01<00:00,  6.03it/s]\n"
          ]
        },
        {
          "output_type": "stream",
          "name": "stdout",
          "text": [
            "epoch: 14\n",
            "train_loss: 0.164, train_acc: 0.952\n",
            "valid_loss: 0.283, valid_acc: 0.889\n"
          ]
        }
      ]
    },
    {
      "cell_type": "code",
      "source": [
        "fig = plt.figure(figsize=(10, 6))\n",
        "ax = fig.add_subplot(1, 1, 1)\n",
        "ax.plot(metrics[\"train_losses\"], label=\"train loss\")\n",
        "ax.plot(metrics[\"valid_losses\"], label=\"valid loss\")\n",
        "ax.set_xlabel(\"epoch\")\n",
        "ax.set_ylabel(\"loss\")\n",
        "ax.set_xticks(range(n_epochs))\n",
        "ax.legend()\n",
        "ax.grid()"
      ],
      "metadata": {
        "colab": {
          "base_uri": "https://localhost:8080/",
          "height": 542
        },
        "id": "pLEUEpFj_1Z7",
        "outputId": "35bc60da-f127-4c1b-829e-91de6aded8e8"
      },
      "execution_count": 45,
      "outputs": [
        {
          "output_type": "display_data",
          "data": {
            "text/plain": [
              "<Figure size 1000x600 with 1 Axes>"
            ],
            "image/png": "[encoded data removed]"
          },
          "metadata": {}
        }
      ]
    },
    {
      "cell_type": "code",
      "source": [
        "fig = plt.figure(figsize=(10, 6))\n",
        "ax = fig.add_subplot(1, 1, 1)\n",
        "ax.plot(metrics[\"train_accuracy\"], label=\"train accuracy\")\n",
        "ax.plot(metrics[\"valid_accuracy\"], label=\"valid accuracy\")\n",
        "ax.set_xlabel(\"epoch\")\n",
        "ax.set_ylabel(\"loss\")\n",
        "ax.set_xticks(range(n_epochs))\n",
        "ax.legend()\n",
        "ax.grid()"
      ],
      "metadata": {
        "colab": {
          "base_uri": "https://localhost:8080/",
          "height": 542
        },
        "id": "4fiDJNyi_1X5",
        "outputId": "00488e8e-9359-41cc-e10d-7d675f024d90"
      },
      "execution_count": 47,
      "outputs": [
        {
          "output_type": "display_data",
          "data": {
            "text/plain": [
              "<Figure size 1000x600 with 1 Axes>"
            ],
            "image/png": "[encoded data removed]"
          },
          "metadata": {}
        }
      ]
    }
  ]
}